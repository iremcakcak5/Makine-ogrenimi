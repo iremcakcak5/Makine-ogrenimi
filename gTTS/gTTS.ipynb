{
 "cells": [
  {
   "cell_type": "code",
   "execution_count": 16,
   "metadata": {},
   "outputs": [],
   "source": [
    "from gtts import gTTS"
   ]
  },
  {
   "cell_type": "code",
   "execution_count": 17,
   "metadata": {},
   "outputs": [],
   "source": [
    "text='''\n",
    "Merhaba nasılsınız?\n",
    "'''\n",
    "kayit=gTTS(text=text, lang='tr',slow=False)\n",
    "kayit.save(\"seslendirme_in.mp3\")"
   ]
  },
  {
   "cell_type": "code",
   "execution_count": 18,
   "metadata": {},
   "outputs": [
    {
     "name": "stdout",
     "output_type": "stream",
     "text": [
      "merhab nasılsınz?\n"
     ]
    }
   ],
   "source": [
    "str=\"\"\n",
    "with open('konusma.txt','r',encoding='utf-8') as file:\n",
    "      for line in file:\n",
    "            #print(line)\n",
    "            str+=line\n",
    "            print(line)"
   ]
  },
  {
   "cell_type": "code",
   "execution_count": 19,
   "metadata": {},
   "outputs": [],
   "source": [
    "def seslendirme(text,seslendirme_aksani='tr'):\n",
    "      kayit=gTTS(text=text, lang=seslendirme_aksani,slow=False)\n",
    "      kayit.save('seslendirme.mp3')"
   ]
  },
  {
   "cell_type": "code",
   "execution_count": 20,
   "metadata": {},
   "outputs": [],
   "source": [
    "seslendirme(str)"
   ]
  },
  {
   "cell_type": "code",
   "execution_count": 23,
   "metadata": {},
   "outputs": [],
   "source": [
    "def seslendirme(text,seslendirme_aksani='tr'):\n",
    "      kayit=gTTS(text=text, lang=seslendirme_aksani,slow=False)\n",
    "      try:\n",
    "           kayit.save(\"{}_seslendirme.mp3\".format(random.randint(0,1000)))\n",
    "      except:\n",
    "            print(\"Ses kaydedilmedi.\")"
   ]
  },
  {
   "cell_type": "code",
   "execution_count": 24,
   "metadata": {},
   "outputs": [
    {
     "name": "stdout",
     "output_type": "stream",
     "text": [
      "Ses kaydedilmedi.\n"
     ]
    }
   ],
   "source": [
    "seslendirme(str)"
   ]
  },
  {
   "cell_type": "code",
   "execution_count": null,
   "metadata": {},
   "outputs": [],
   "source": []
  }
 ],
 "metadata": {
  "kernelspec": {
   "display_name": "myenv",
   "language": "python",
   "name": "python3"
  },
  "language_info": {
   "codemirror_mode": {
    "name": "ipython",
    "version": 3
   },
   "file_extension": ".py",
   "mimetype": "text/x-python",
   "name": "python",
   "nbconvert_exporter": "python",
   "pygments_lexer": "ipython3",
   "version": "3.12.0"
  }
 },
 "nbformat": 4,
 "nbformat_minor": 2
}
